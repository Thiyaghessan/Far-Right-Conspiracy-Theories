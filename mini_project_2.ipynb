{
 "cells": [
  {
   "cell_type": "markdown",
   "metadata": {},
   "source": [
    "# Mini Project 2\n",
    "\n",
    "## By Thiyaghessan\n",
    "\n",
    "#### In this project I understand how extremist conspiracy theories have evolved online via a text analysis of InfoWars content. The project includes the following steps:\n",
    "\n",
    "1. Install Packages\n",
    "2. Load text data\n",
    "3. Clean Text Data\n",
    "4. Select Topic Model with highest coherence\n",
    "5. Create Dynamic Topic Models and compare results\n",
    "\n",
    "My models have been saved\n",
    " - in a folder entitled topic_models\n",
    "     - lda.model.state : initial lda topic model with 10 topics\n",
    "      - This has other lda files used to load the topic model\n",
    "     - dtm.model : initial dtm with 10 topics\n",
    "     - dtmsubset.model :dtm on a subset of articles with 5 topics\n",
    " - pyLDAvis visuals have been saved in a folder called visuals\n",
    " \n",
    " Additional files\n",
    "  - json files with scraped pages in a folder\n",
    "  - a csv file with tokens and their frequencies\n",
    "  - mp2scraper which I used to scrape the webpages\n",
    "  - word document with project description"
   ]
  },
  {
   "cell_type": "markdown",
   "metadata": {},
   "source": [
    "### Install Packages"
   ]
  },
  {
   "cell_type": "code",
   "execution_count": 39,
   "metadata": {},
   "outputs": [],
   "source": [
    "import json\n",
    "import matplotlib.pyplot as plt\n",
    "from gensim import corpora, models\n",
    "import pyLDAvis\n",
    "import pyLDAvis.gensim_models\n",
    "\n",
    "from sklearn.feature_extraction.text import TfidfVectorizer\n",
    "import numpy as np\n",
    "import pandas as pd\n",
    "from gensim import corpora, models\n",
    "from gensim.utils import effective_n_jobs\n",
    "import nltk\n",
    "from nltk.stem.snowball import SnowballStemmer\n",
    "from tqdm.auto import tqdm\n",
    "# register `pandas.progress_apply` and `pandas.Series.map_apply` with `tqdm`\n",
    "tqdm.pandas()\n",
    "\n",
    "from collections import Counter \n",
    "\n",
    "from gensim.models import LdaSeqModel\n",
    "from ipywidgets import interact\n",
    "from gensim.models.coherencemodel import CoherenceModel"
   ]
  },
  {
   "cell_type": "code",
   "execution_count": 40,
   "metadata": {},
   "outputs": [],
   "source": [
    "def read_json(data):\n",
    "    '''\n",
    "    Reads a json file and carefully indexes it\n",
    "    \n",
    "    Input:\n",
    "        data (json): A json file\n",
    "    Output:\n",
    "        df (dataframe): A pandas data frame    \n",
    "    '''\n",
    "    with open(data, 'r') as file:\n",
    "        infowars_data = json.load(file)\n",
    "\n",
    "\n",
    "    df = pd.read_json(infowars_data, convert_axes = False)\n",
    "    df = df.transpose()\n",
    "    df.index.name = \"Date-Time\"\n",
    "    Date = []\n",
    "    \n",
    "    for row in df.index:\n",
    "        date = row[0:8]\n",
    "        Date.append(date)\n",
    "\n",
    "    df[\"Date\"] = Date\n",
    "    df[\"Date\"] = df[\"Date\"].astype(int)\n",
    "    df['Date']= pd.to_datetime(df['Date'], format = \"%Y%m%d\")\n",
    "    \n",
    "    return df"
   ]
  },
  {
   "cell_type": "markdown",
   "metadata": {},
   "source": [
    "## Prepare text files for analysis"
   ]
  },
  {
   "cell_type": "markdown",
   "metadata": {},
   "source": [
    "### Article Text     "
   ]
  },
  {
   "cell_type": "markdown",
   "metadata": {},
   "source": [
    "#### Preprocessing scraped pages\n",
    "\n",
    "I do a few things:\n",
    "\n",
    " - remove \"\\n\" characters\n",
    " - remove authors and dates since they are irrelevant to the articles' contents\n",
    " - create new dataframes without unnecessary columns"
   ]
  },
  {
   "cell_type": "code",
   "execution_count": 41,
   "metadata": {},
   "outputs": [],
   "source": [
    "def article_converter(json, year):\n",
    "    '''\n",
    "    Converts my json file into a suitable format for text analysis\n",
    "    '''\n",
    "    df = read_json(json)\n",
    "    unique_articles = set()\n",
    "    \n",
    "    for row in df['contents']:\n",
    "        for string in row:\n",
    "            string = string.replace(\"\\n\", \"\")\n",
    "            index = string.find(str(year))\n",
    "            string = string[index+4:]\n",
    "            unique_articles.add(string)\n",
    "            \n",
    "    unique_articles = list(unique_articles)    \n",
    "    df_formatted = pd.DataFrame(unique_articles, columns=[\"contents\"])\n",
    "    df_formatted['year'] = year\n",
    "    return df_formatted"
   ]
  },
  {
   "cell_type": "markdown",
   "metadata": {},
   "source": [
    "Combine all my processed json files into a single dataframe"
   ]
  },
  {
   "cell_type": "code",
   "execution_count": 42,
   "metadata": {},
   "outputs": [],
   "source": [
    "articles_nov08 = article_converter('scraped_pages/obama_scraped_pages_nov08_cleaned.json', 2008)\n",
    "articles_nov09 = article_converter('scraped_pages/obama_scraped_pages_nov09_cleaned.json', 2009)\n",
    "articles_nov10 = article_converter('scraped_pages/obama_scraped_pages_nov10_cleaned.json', 2010)\n",
    "articles_nov11 = article_converter('scraped_pages/obama_scraped_pages_nov11_cleaned.json', 2011)\n",
    "articles_nov12 = article_converter('scraped_pages/obama_scraped_pages_nov12_cleaned.json', 2012)\n",
    "all_articles = pd.concat([articles_nov08, articles_nov09, articles_nov10, articles_nov11, articles_nov12])"
   ]
  },
  {
   "cell_type": "markdown",
   "metadata": {},
   "source": [
    "By looking at the dataframe itself, I can see that I have 1900 articles to work with"
   ]
  },
  {
   "cell_type": "code",
   "execution_count": 43,
   "metadata": {},
   "outputs": [
    {
     "data": {
      "text/html": [
       "<div>\n",
       "<style scoped>\n",
       "    .dataframe tbody tr th:only-of-type {\n",
       "        vertical-align: middle;\n",
       "    }\n",
       "\n",
       "    .dataframe tbody tr th {\n",
       "        vertical-align: top;\n",
       "    }\n",
       "\n",
       "    .dataframe thead th {\n",
       "        text-align: right;\n",
       "    }\n",
       "</style>\n",
       "<table border=\"1\" class=\"dataframe\">\n",
       "  <thead>\n",
       "    <tr style=\"text-align: right;\">\n",
       "      <th></th>\n",
       "      <th>contents</th>\n",
       "      <th>year</th>\n",
       "    </tr>\n",
       "  </thead>\n",
       "  <tbody>\n",
       "    <tr>\n",
       "      <th>0</th>\n",
       "      <td>This just in on the ongoing ID Card issue. (BT...</td>\n",
       "      <td>2008</td>\n",
       "    </tr>\n",
       "    <tr>\n",
       "      <th>1</th>\n",
       "      <td>Hillary Clinton is a popular choice for Secret...</td>\n",
       "      <td>2008</td>\n",
       "    </tr>\n",
       "    <tr>\n",
       "      <th>2</th>\n",
       "      <td>Despite being quiet and respectful, Stewart’s ...</td>\n",
       "      <td>2008</td>\n",
       "    </tr>\n",
       "    <tr>\n",
       "      <th>3</th>\n",
       "      <td>As the US public is dimly aware, things are no...</td>\n",
       "      <td>2008</td>\n",
       "    </tr>\n",
       "    <tr>\n",
       "      <th>4</th>\n",
       "      <td>TorontoChange.com, a local chapter of the We A...</td>\n",
       "      <td>2008</td>\n",
       "    </tr>\n",
       "    <tr>\n",
       "      <th>...</th>\n",
       "      <td>...</td>\n",
       "      <td>...</td>\n",
       "    </tr>\n",
       "    <tr>\n",
       "      <th>40</th>\n",
       "      <td>The 13-inch android is scheduled to be complet...</td>\n",
       "      <td>2012</td>\n",
       "    </tr>\n",
       "    <tr>\n",
       "      <th>41</th>\n",
       "      <td>Indianapolis writer and editor Corey Michael D...</td>\n",
       "      <td>2012</td>\n",
       "    </tr>\n",
       "    <tr>\n",
       "      <th>42</th>\n",
       "      <td>The Pentagon’s spy agency is to be reformed in...</td>\n",
       "      <td>2012</td>\n",
       "    </tr>\n",
       "    <tr>\n",
       "      <th>43</th>\n",
       "      <td>Rhode Island today became the first state in t...</td>\n",
       "      <td>2012</td>\n",
       "    </tr>\n",
       "    <tr>\n",
       "      <th>44</th>\n",
       "      <td>The Government will announce details this mont...</td>\n",
       "      <td>2012</td>\n",
       "    </tr>\n",
       "  </tbody>\n",
       "</table>\n",
       "<p>1900 rows × 2 columns</p>\n",
       "</div>"
      ],
      "text/plain": [
       "                                             contents  year\n",
       "0   This just in on the ongoing ID Card issue. (BT...  2008\n",
       "1   Hillary Clinton is a popular choice for Secret...  2008\n",
       "2   Despite being quiet and respectful, Stewart’s ...  2008\n",
       "3   As the US public is dimly aware, things are no...  2008\n",
       "4   TorontoChange.com, a local chapter of the We A...  2008\n",
       "..                                                ...   ...\n",
       "40  The 13-inch android is scheduled to be complet...  2012\n",
       "41  Indianapolis writer and editor Corey Michael D...  2012\n",
       "42  The Pentagon’s spy agency is to be reformed in...  2012\n",
       "43  Rhode Island today became the first state in t...  2012\n",
       "44  The Government will announce details this mont...  2012\n",
       "\n",
       "[1900 rows x 2 columns]"
      ]
     },
     "execution_count": 43,
     "metadata": {},
     "output_type": "execute_result"
    }
   ],
   "source": [
    "all_articles"
   ]
  },
  {
   "cell_type": "markdown",
   "metadata": {},
   "source": [
    "#### Here I code in all my required helper functions"
   ]
  },
  {
   "cell_type": "code",
   "execution_count": 44,
   "metadata": {},
   "outputs": [
    {
     "name": "stderr",
     "output_type": "stream",
     "text": [
      "<>:1: DeprecationWarning: invalid escape sequence \\s\n",
      "<>:1: DeprecationWarning: invalid escape sequence \\s\n",
      "<>:1: DeprecationWarning: invalid escape sequence \\s\n",
      "<ipython-input-44-69334049b0cc>:1: DeprecationWarning: invalid escape sequence \\s\n",
      "  infowars_regex = \"[^a-z\\s]|swp no\"\n"
     ]
    }
   ],
   "source": [
    "infowars_regex = \"[^a-z\\s]|swp no\"\n",
    "custom_stopwords = [\"guardian\", \"eq\", \"addthis\", \"lou\", \"dobbs\", 'html', \"ha\", \"jon\", \"stewart\", \"geraldo\", \"h\", \\\n",
    "                    \"youtube\", \"similar\", \"related\", \"articles\", \"u\", \"th\", \"ajs\", \"scr\", \"https\", \"november\", \"reply\", \\\n",
    "                    \"says\", \"document\", \"pm\", \"people\", \"like\", \"would\", \"one\", \"write\", \"get\", \"know\", \"time\", \"think\", \\\n",
    "                    \"used\", \"see\", \"even\", \"right\", \"said\", \"amp\", \"st\", \"http\", \"nd\", \"e\", \"r\", \"www\", \"rd\", \"v\", \"var\", \\\n",
    "                    \"n\", \"php\", \"fo\", \"mmm\", \"ajs\", \"ipt\", \"scr\", \"https\", \"called\", \"show\", \"alex\", \"jones\", \"TRUE\", \"etc\", \\\n",
    "                    \"mr\", \"FALSE\", \"c\", \"cdata\", \"co\", \"b\", \"p\", \"f\", \"cb\", \"loc\", \"username\", \"ruleslogin\", \"registerlost\", \\\n",
    "                    \"na\", \"x\", \"pmthe\", \"gon\", \"ok\", \"g\", \"w\", \"get\", \"go\", \"many\", \"way\", \"could\", \"say\", \"com\", \\\n",
    "                    \"web\", \"org\", \"infowars\", \"context\", \"max\", \"also\", \"go\", \"going\", \"need\", \"many\", \"take\", \"need\", \\\n",
    "                    \"white\", \"want\", \"news\", \"something\", \"back\", \"tip\", \"pay\", \"december\", \"march\", \"january\", \\\n",
    "                    \"february\", \"april\", \"may\", \"june\", \"july\", \"august\", \"september\", \"october\", 'man', 'truth', \\\n",
    "                    'come', 'real', 'really', 'believe', 'life', 'never', 'shall', 'let', 'watch', 'years', \\\n",
    "                    'every', 'much', 'look', 'day', 'country', 'nothing', 'first', 'real', 'never', 'much', \\\n",
    "                    'still', 'years', 'nothing', 'thing', 'come', 'country', 'let', 'got', 'look', 'anything', \\\n",
    "                    'maybe', 'video', 'really', 'use', 'never', 'every', \"comment\", \"password\", \"location\", \"god\", \\\n",
    "                    \"america\", \"american\", \"read\", \"food\", \"charset\"]\n",
    "\n",
    "def tokenize_infowars(text_series, stopwords=[]):\n",
    "    '''\n",
    "    Cleans + tokenizes Pandas series of strings from the Salem Witch dataset.\n",
    "    \n",
    "    Returns pandas series of lists of tokens\n",
    "    '''\n",
    "    clean = text_series.str.lower() \\\n",
    "                       .str.replace(infowars_regex,\n",
    "                                    \" \",\n",
    "                                    regex=True)\n",
    "\n",
    "    stop = nltk.corpus.stopwords.words('english') + stopwords + custom_stopwords\n",
    "\n",
    "    tokenize = lambda text: [i for i in nltk.word_tokenize(text) if i not in stop]\n",
    "    stemmer = lambda tokens: [SnowballStemmer('english').stem(token) for token in tokens]\n",
    "    \n",
    "    tokens = clean.apply(tokenize)\n",
    "    stemmed_tokens = tokens.apply(stemmer)\n",
    "    \n",
    "    return tokens\n",
    "\n",
    "def prepare_data(tokens):\n",
    "    '''\n",
    "    Prepares Pandas series of lists of tokens for use within a Gensim topic model\n",
    "    \n",
    "    Returns an id2word dictionary + bag of words corpus\n",
    "    '''\n",
    "    # Initialize Series of tokens as Gensim Dictionary for further processing\n",
    "    dictionary = corpora.Dictionary([i for i in tokens])\n",
    "\n",
    "    # Convert dictionary into bag of words format: list of (token_id, token_count) tuples\n",
    "    bow_corpus = [dictionary.doc2bow(text) for text in tokens]\n",
    "    \n",
    "    return dictionary, bow_corpus\n",
    "\n",
    "def compute_coherence_values(dictionary, corpus, texts, limit, start=2, step=2):\n",
    "    '''\n",
    "    Computes Coherence values for LDA models with differing numbers of topics.\n",
    "    \n",
    "    Returns list of models along with their respective coherence values (pick\n",
    "    models with the highest coherence)\n",
    "    '''\n",
    "    coherence_values = []\n",
    "    model_list = []\n",
    "    for num_topics in range(start, limit, step):\n",
    "        model = models.ldamulticore.LdaMulticore(corpus=corpus,\n",
    "                                                 id2word=dictionary,\n",
    "                                                 num_topics=num_topics,\n",
    "                                                 workers=effective_n_jobs(-1),\n",
    "                                                 passes=20,\n",
    "                                                 iterations=400)\n",
    "        model_list.append(model)\n",
    "        coherence_model = models.coherencemodel.CoherenceModel(model=model, \n",
    "                                                               corpus=corpus,\n",
    "                                                               dictionary=dictionary,\n",
    "                                                               coherence='u_mass')\n",
    "        coherence_values.append(coherence_model.get_coherence())\n",
    "\n",
    "    return model_list, coherence_values\n",
    "\n",
    "def fill_topic_weights(df_row, bow_corpus, ldamodel):\n",
    "    '''\n",
    "    Fill DataFrame rows with topic weights for topics in texts.\n",
    "    \n",
    "    Modifies DataFrame rows *in place*.\n",
    "    '''\n",
    "    try:\n",
    "        for i in ldamodel[bow_corpus[df_row.name]]:\n",
    "            df_row[str(i[0])] = i[1]\n",
    "    except:\n",
    "        return df_row\n",
    "    return df_row\n",
    "\n",
    "def unique_headlines(df, year):\n",
    "        \n",
    "    df['titlestring'] = [','.join(map(str, l)) for l in df['titles']]\n",
    "\n",
    "    unique_headlines = set()\n",
    "\n",
    "    for row in df['titles']:\n",
    "        for lst in row:\n",
    "            unique_headlines.add(lst)\n",
    "\n",
    "    unique_headlines = list(unique_headlines)\n",
    "\n",
    "    new_df = pd.DataFrame(unique_headlines, columns=['titles'])\n",
    "    new_df['year'] = year\n",
    "    \n",
    "    return new_df\n",
    "\n",
    "def count_words(df, column='tokens', preprocess=None, min_freq=2):\n",
    "\n",
    "    # process tokens and update counter\n",
    "    def update(doc):\n",
    "        tokens = doc if preprocess is None else preprocess(doc)\n",
    "        counter.update(tokens)\n",
    "\n",
    "    # create counter and run through all data\n",
    "    counter = Counter()\n",
    "    df[column].apply(update)\n",
    "\n",
    "    # transform counter into data frame\n",
    "    freq_df = pd.DataFrame.from_dict(counter, orient='index', columns=['freq'])\n",
    "    freq_df = freq_df.query('freq >= @min_freq')\n",
    "    freq_df.index.name = 'token'\n",
    "    \n",
    "    return freq_df.sort_values('freq', ascending=False)\n",
    "\n",
    "## DTM Functions\n",
    "\n",
    "def print_dtm(dtm, n_topics, n_time_slices):\n",
    "    '''\n",
    "    Prints out top words in each topic across time slices for visual comparison\n",
    "    \n",
    "    Input: Gensim LdaSeqModel, n_topics (int), n_time_slices (int)\n",
    "    '''\n",
    "    for topic in range(n_topics):\n",
    "        for time in range(n_time_slices): \n",
    "            print(\"##### Topic {}, Time Slice {} #####\".format(topic, time))    \n",
    "            print(dtm.dtm_coherence(time)[topic][:10])    \n",
    "        print(\"\\n\")\n",
    "\n",
    "def dtm_coherence(list_dtms, bow_corpus, dictionary, n_time_slices):\n",
    "    '''\n",
    "    Computes UMass Coherence for each time slice in a list of DTMs\n",
    "    \n",
    "    Input: List of Gensim LdaSeqModels, number of time slices modeled (int)\n",
    "    Returns: Dict of lists of coherence scores for each DTM\n",
    "    '''\n",
    "    coherence = {}\n",
    "    for i, ldaseq in enumerate(list_dtms):\n",
    "        coherence[i] = []\n",
    "        for t in range(n_time_slices):\n",
    "            topics_dtm = ldaseq.dtm_coherence(t)\n",
    "            cm_DTM = CoherenceModel(topics=topics_dtm,\n",
    "                                    corpus=bow_corpus,\n",
    "                                    dictionary=dictionary,\n",
    "                                    coherence='u_mass')\n",
    "\n",
    "            coherence[i].append(cm_DTM.get_coherence())\n",
    "            \n",
    "        return coherence"
   ]
  },
  {
   "cell_type": "markdown",
   "metadata": {},
   "source": [
    "### Explore the text data"
   ]
  },
  {
   "cell_type": "markdown",
   "metadata": {},
   "source": [
    "#### Get a frequency list and distribution to determine the stopwords to remove"
   ]
  },
  {
   "cell_type": "code",
   "execution_count": 45,
   "metadata": {},
   "outputs": [
    {
     "data": {
      "text/html": [
       "<div>\n",
       "<style scoped>\n",
       "    .dataframe tbody tr th:only-of-type {\n",
       "        vertical-align: middle;\n",
       "    }\n",
       "\n",
       "    .dataframe tbody tr th {\n",
       "        vertical-align: top;\n",
       "    }\n",
       "\n",
       "    .dataframe thead th {\n",
       "        text-align: right;\n",
       "    }\n",
       "</style>\n",
       "<table border=\"1\" class=\"dataframe\">\n",
       "  <thead>\n",
       "    <tr style=\"text-align: right;\">\n",
       "      <th></th>\n",
       "      <th>freq</th>\n",
       "    </tr>\n",
       "    <tr>\n",
       "      <th>token</th>\n",
       "      <th></th>\n",
       "    </tr>\n",
       "  </thead>\n",
       "  <tbody>\n",
       "    <tr>\n",
       "      <th>us</th>\n",
       "      <td>10284</td>\n",
       "    </tr>\n",
       "    <tr>\n",
       "      <th>government</th>\n",
       "      <td>7168</td>\n",
       "    </tr>\n",
       "    <tr>\n",
       "      <th>world</th>\n",
       "      <td>6570</td>\n",
       "    </tr>\n",
       "    <tr>\n",
       "      <th>new</th>\n",
       "      <td>5216</td>\n",
       "    </tr>\n",
       "    <tr>\n",
       "      <th>war</th>\n",
       "      <td>4775</td>\n",
       "    </tr>\n",
       "    <tr>\n",
       "      <th>...</th>\n",
       "      <td>...</td>\n",
       "    </tr>\n",
       "    <tr>\n",
       "      <th>obamadear</th>\n",
       "      <td>2</td>\n",
       "    </tr>\n",
       "    <tr>\n",
       "      <th>enemie</th>\n",
       "      <td>2</td>\n",
       "    </tr>\n",
       "    <tr>\n",
       "      <th>greenea</th>\n",
       "      <td>2</td>\n",
       "    </tr>\n",
       "    <tr>\n",
       "      <th>canadianinfowarriors</th>\n",
       "      <td>2</td>\n",
       "    </tr>\n",
       "    <tr>\n",
       "      <th>lolreplymjcw</th>\n",
       "      <td>2</td>\n",
       "    </tr>\n",
       "  </tbody>\n",
       "</table>\n",
       "<p>46835 rows × 1 columns</p>\n",
       "</div>"
      ],
      "text/plain": [
       "                       freq\n",
       "token                      \n",
       "us                    10284\n",
       "government             7168\n",
       "world                  6570\n",
       "new                    5216\n",
       "war                    4775\n",
       "...                     ...\n",
       "obamadear                 2\n",
       "enemie                    2\n",
       "greenea                   2\n",
       "canadianinfowarriors      2\n",
       "lolreplymjcw              2\n",
       "\n",
       "[46835 rows x 1 columns]"
      ]
     },
     "execution_count": 45,
     "metadata": {},
     "output_type": "execute_result"
    }
   ],
   "source": [
    "all_articles['tokens'] = tokenize_infowars(all_articles['contents'])\n",
    "freq_articles = count_words(all_articles)\n",
    "freq_articles"
   ]
  },
  {
   "cell_type": "code",
   "execution_count": 46,
   "metadata": {},
   "outputs": [
    {
     "data": {
      "text/html": [
       "<div>\n",
       "<style scoped>\n",
       "    .dataframe tbody tr th:only-of-type {\n",
       "        vertical-align: middle;\n",
       "    }\n",
       "\n",
       "    .dataframe tbody tr th {\n",
       "        vertical-align: top;\n",
       "    }\n",
       "\n",
       "    .dataframe thead th {\n",
       "        text-align: right;\n",
       "    }\n",
       "</style>\n",
       "<table border=\"1\" class=\"dataframe\">\n",
       "  <thead>\n",
       "    <tr style=\"text-align: right;\">\n",
       "      <th></th>\n",
       "      <th>freq</th>\n",
       "    </tr>\n",
       "    <tr>\n",
       "      <th>token</th>\n",
       "      <th></th>\n",
       "    </tr>\n",
       "  </thead>\n",
       "  <tbody>\n",
       "    <tr>\n",
       "      <th>us</th>\n",
       "      <td>10284</td>\n",
       "    </tr>\n",
       "    <tr>\n",
       "      <th>government</th>\n",
       "      <td>7168</td>\n",
       "    </tr>\n",
       "    <tr>\n",
       "      <th>world</th>\n",
       "      <td>6570</td>\n",
       "    </tr>\n",
       "    <tr>\n",
       "      <th>new</th>\n",
       "      <td>5216</td>\n",
       "    </tr>\n",
       "    <tr>\n",
       "      <th>war</th>\n",
       "      <td>4775</td>\n",
       "    </tr>\n",
       "    <tr>\n",
       "      <th>...</th>\n",
       "      <td>...</td>\n",
       "    </tr>\n",
       "    <tr>\n",
       "      <th>obamadear</th>\n",
       "      <td>2</td>\n",
       "    </tr>\n",
       "    <tr>\n",
       "      <th>enemie</th>\n",
       "      <td>2</td>\n",
       "    </tr>\n",
       "    <tr>\n",
       "      <th>greenea</th>\n",
       "      <td>2</td>\n",
       "    </tr>\n",
       "    <tr>\n",
       "      <th>canadianinfowarriors</th>\n",
       "      <td>2</td>\n",
       "    </tr>\n",
       "    <tr>\n",
       "      <th>lolreplymjcw</th>\n",
       "      <td>2</td>\n",
       "    </tr>\n",
       "  </tbody>\n",
       "</table>\n",
       "<p>46835 rows × 1 columns</p>\n",
       "</div>"
      ],
      "text/plain": [
       "                       freq\n",
       "token                      \n",
       "us                    10284\n",
       "government             7168\n",
       "world                  6570\n",
       "new                    5216\n",
       "war                    4775\n",
       "...                     ...\n",
       "obamadear                 2\n",
       "enemie                    2\n",
       "greenea                   2\n",
       "canadianinfowarriors      2\n",
       "lolreplymjcw              2\n",
       "\n",
       "[46835 rows x 1 columns]"
      ]
     },
     "execution_count": 46,
     "metadata": {},
     "output_type": "execute_result"
    }
   ],
   "source": [
    "freq_articles"
   ]
  },
  {
   "cell_type": "code",
   "execution_count": 91,
   "metadata": {},
   "outputs": [],
   "source": [
    "freq_articles.to_csv(\"freq.csv\")"
   ]
  },
  {
   "cell_type": "code",
   "execution_count": 92,
   "metadata": {},
   "outputs": [
    {
     "data": {
      "text/plain": [
       "<matplotlib.axes._subplots.AxesSubplot at 0x22df170e048>"
      ]
     },
     "execution_count": 92,
     "metadata": {},
     "output_type": "execute_result"
    },
    {
     "data": {
      "image/png": "[encoded data removed]",
      "text/plain": [
       "<Figure size 1440x1440 with 1 Axes>"
      ]
     },
     "metadata": {
      "needs_background": "light"
     },
     "output_type": "display_data"
    }
   ],
   "source": [
    "freq_graph = freq_articles['freq'].head(500)\n",
    "freq_graph.plot(kind='bar', rot=90, figsize=(20, 20))"
   ]
  },
  {
   "cell_type": "code",
   "execution_count": 96,
   "metadata": {},
   "outputs": [
    {
     "data": {
      "text/plain": [
       "<matplotlib.axes._subplots.AxesSubplot at 0x22df1711388>"
      ]
     },
     "execution_count": 96,
     "metadata": {},
     "output_type": "execute_result"
    },
    {
     "data": {
      "image/png": "[encoded data removed]",
      "text/plain": [
       "<Figure size 1440x1440 with 1 Axes>"
      ]
     },
     "metadata": {
      "needs_background": "light"
     },
     "output_type": "display_data"
    }
   ],
   "source": [
    "freq_graph = freq_articles['freq'].head(50)\n",
    "freq_graph.plot(kind='bar', rot=90, figsize=(20, 20))"
   ]
  },
  {
   "cell_type": "markdown",
   "metadata": {},
   "source": [
    "There are 46964 words, I remove the 40 most common words"
   ]
  },
  {
   "cell_type": "code",
   "execution_count": 47,
   "metadata": {},
   "outputs": [],
   "source": [
    "infowars_stopwords = list(freq_articles['freq'].keys()[0:41])"
   ]
  },
  {
   "cell_type": "markdown",
   "metadata": {},
   "source": [
    "I then recreate my list of tokens"
   ]
  },
  {
   "cell_type": "code",
   "execution_count": 48,
   "metadata": {},
   "outputs": [],
   "source": [
    "all_articles['tokens'] = tokenize_infowars(all_articles['contents'], infowars_stopwords)"
   ]
  },
  {
   "cell_type": "markdown",
   "metadata": {},
   "source": [
    "### Now, I create a list of models and calculate their coherence scores"
   ]
  },
  {
   "cell_type": "code",
   "execution_count": 49,
   "metadata": {},
   "outputs": [],
   "source": [
    "dictionary, bow_corpus = prepare_data(all_articles['tokens'])"
   ]
  },
  {
   "cell_type": "code",
   "execution_count": 50,
   "metadata": {},
   "outputs": [
    {
     "data": {
      "text/plain": [
       "<matplotlib.legend.Legend at 0x2588ff61d88>"
      ]
     },
     "execution_count": 50,
     "metadata": {},
     "output_type": "execute_result"
    },
    {
     "data": {
      "image/png": "[encoded data removed]",
      "text/plain": [
       "<Figure size 432x288 with 1 Axes>"
      ]
     },
     "metadata": {
      "needs_background": "light"
     },
     "output_type": "display_data"
    }
   ],
   "source": [
    "model_list, coherence_values = compute_coherence_values(dictionary=dictionary,\n",
    "                                                           corpus=bow_corpus,\n",
    "                                                           texts=all_articles['tokens'],\n",
    "                                                           start=5,\n",
    "                                                           limit=11,\n",
    "                                                           step=1)\n",
    "plt.plot(range(5, 11, 1), coherence_values)\n",
    "plt.xlabel(\"Number of Topics\")\n",
    "plt.ylabel(\"Coherence score\")\n",
    "plt.legend((\"coherence_values\"), loc='best')"
   ]
  },
  {
   "cell_type": "markdown",
   "metadata": {},
   "source": [
    "### I then identify model with the highest coherence score and print out/visualize the topic consituents."
   ]
  },
  {
   "cell_type": "code",
   "execution_count": 51,
   "metadata": {},
   "outputs": [
    {
     "name": "stdout",
     "output_type": "stream",
     "text": [
      "Topic 0: \n",
      "['iran', 'israel', 'nuclear', 'korea', 'missile', 'israeli', 'attack', 'north', 'china', 'weapons']\n",
      "Topic 1: \n",
      "['flu', 'vaccine', 'wall', 'swine', 'vaccines', 'street', 'occupy', 'debt', 'jesse', 'virus']\n",
      "Topic 2: \n",
      "['flag', 'constitution', 'act', 'congress', 'enemy', 'rights', 'powers', 'means', 'land', 'national']\n",
      "Topic 3: \n",
      "['body', 'scanners', 'airport', 'fly', 'global', 'media', 'change', 'plane', 'information', 'archive']\n",
      "Topic 4: \n",
      "['gold', 'job', 'silver', 'always', 'little', 'better', 'tell', 'anyone', 'bad', 'someone']\n",
      "Topic 5: \n",
      "['water', 'fluoride', 'health', 'vote', 'court', 'internet', 'cancer', 'supreme', 'case', 'year']\n",
      "Topic 6: \n",
      "['delivery', 'referrer', 'rotate', 'al', 'iraq', 'archive', 'math', 'afghanistan', 'iran', 'cia']\n",
      "Topic 7: \n",
      "['cia', 'math', 'archive', 'referrer', 'rotate', 'delivery', 'iran', 'uk', 'wtc', 'children']\n",
      "Topic 8: \n",
      "['fed', 'reserve', 'paul', 'banks', 'global', 'bank', 'debt', 'economy', 'dollar', 'ron']\n",
      "Topic 9: \n",
      "['cops', 'cop', 'christ', 'hell', 'unto', 'jesus', 'guy', 'thou', 'officer', 'death']\n"
     ]
    }
   ],
   "source": [
    "ldamodel = model_list[5]\n",
    "\n",
    "for i, topic in ldamodel.show_topics(formatted=False, num_words=10):\n",
    "    print('Topic {}: \\n{}'.format(i, [w[0] for w in topic]))"
   ]
  },
  {
   "cell_type": "markdown",
   "metadata": {},
   "source": [
    "### Save the model"
   ]
  },
  {
   "cell_type": "code",
   "execution_count": 54,
   "metadata": {},
   "outputs": [
    {
     "name": "stderr",
     "output_type": "stream",
     "text": [
      "WARNING:root:failed to load state from topic_models/lda.model.state: [Errno 2] No such file or directory: 'topic_models/lda.model.state.expElogbeta.npy'\n"
     ]
    }
   ],
   "source": [
    "# ldamodel.save('lda.model')\n",
    "ldamodel = models.ldamodel.LdaModel.load('topic_models/lda.model')"
   ]
  },
  {
   "cell_type": "code",
   "execution_count": 172,
   "metadata": {},
   "outputs": [
    {
     "data": {
      "text/html": [
       "<div>\n",
       "<style scoped>\n",
       "    .dataframe tbody tr th:only-of-type {\n",
       "        vertical-align: middle;\n",
       "    }\n",
       "\n",
       "    .dataframe tbody tr th {\n",
       "        vertical-align: top;\n",
       "    }\n",
       "\n",
       "    .dataframe thead th {\n",
       "        text-align: right;\n",
       "    }\n",
       "</style>\n",
       "<table border=\"1\" class=\"dataframe\">\n",
       "  <thead>\n",
       "    <tr style=\"text-align: right;\">\n",
       "      <th></th>\n",
       "      <th>0</th>\n",
       "      <th>1</th>\n",
       "      <th>2</th>\n",
       "      <th>3</th>\n",
       "      <th>4</th>\n",
       "      <th>5</th>\n",
       "      <th>6</th>\n",
       "      <th>7</th>\n",
       "      <th>8</th>\n",
       "      <th>9</th>\n",
       "      <th>contents</th>\n",
       "      <th>tokens</th>\n",
       "      <th>year</th>\n",
       "    </tr>\n",
       "  </thead>\n",
       "  <tbody>\n",
       "    <tr>\n",
       "      <th>0</th>\n",
       "      <td>0.312531</td>\n",
       "      <td>0.000000</td>\n",
       "      <td>0.000000</td>\n",
       "      <td>0.319760</td>\n",
       "      <td>0.359616</td>\n",
       "      <td>0.403206</td>\n",
       "      <td>0.000000</td>\n",
       "      <td>0.626835</td>\n",
       "      <td>0.354930</td>\n",
       "      <td>0.0</td>\n",
       "      <td>A d v e r t i s e m e n tshow_banners();Are yo...</td>\n",
       "      <td>[tshow, banners, ready, next, tuesday, cnn, el...</td>\n",
       "      <td>2008</td>\n",
       "    </tr>\n",
       "    <tr>\n",
       "      <th>1</th>\n",
       "      <td>0.790928</td>\n",
       "      <td>0.201818</td>\n",
       "      <td>0.181630</td>\n",
       "      <td>0.049657</td>\n",
       "      <td>0.629602</td>\n",
       "      <td>0.110229</td>\n",
       "      <td>0.000000</td>\n",
       "      <td>0.000000</td>\n",
       "      <td>0.071861</td>\n",
       "      <td>0.0</td>\n",
       "      <td>Tehran has warned that any attack on the count...</td>\n",
       "      <td>[tehran, warned, attack, insanity, case, exten...</td>\n",
       "      <td>2008</td>\n",
       "    </tr>\n",
       "    <tr>\n",
       "      <th>2</th>\n",
       "      <td>0.434409</td>\n",
       "      <td>0.628495</td>\n",
       "      <td>0.033642</td>\n",
       "      <td>0.166405</td>\n",
       "      <td>0.050123</td>\n",
       "      <td>0.092723</td>\n",
       "      <td>0.078000</td>\n",
       "      <td>0.000000</td>\n",
       "      <td>0.184942</td>\n",
       "      <td>0.0</td>\n",
       "      <td>As               I write, little more than a w...</td>\n",
       "      <td>[little, week, remains, americans, vote, nerve...</td>\n",
       "      <td>2008</td>\n",
       "    </tr>\n",
       "    <tr>\n",
       "      <th>3</th>\n",
       "      <td>0.090466</td>\n",
       "      <td>0.453873</td>\n",
       "      <td>0.058647</td>\n",
       "      <td>0.291925</td>\n",
       "      <td>0.449421</td>\n",
       "      <td>0.641810</td>\n",
       "      <td>0.000000</td>\n",
       "      <td>0.000000</td>\n",
       "      <td>0.928823</td>\n",
       "      <td>0.0</td>\n",
       "      <td>President-elect Barack Obama’s choice for Whit...</td>\n",
       "      <td>[president, elect, barack, obama, choice, hous...</td>\n",
       "      <td>2008</td>\n",
       "    </tr>\n",
       "    <tr>\n",
       "      <th>4</th>\n",
       "      <td>0.000000</td>\n",
       "      <td>0.187585</td>\n",
       "      <td>0.351704</td>\n",
       "      <td>0.092264</td>\n",
       "      <td>0.143374</td>\n",
       "      <td>0.257472</td>\n",
       "      <td>0.027626</td>\n",
       "      <td>0.152609</td>\n",
       "      <td>0.917632</td>\n",
       "      <td>0.0</td>\n",
       "      <td>BAGHDAD — Iraq’s cabinet on Sunday overwhelmin...</td>\n",
       "      <td>[baghdad, iraq, cabinet, sunday, overwhelmingl...</td>\n",
       "      <td>2008</td>\n",
       "    </tr>\n",
       "  </tbody>\n",
       "</table>\n",
       "</div>"
      ],
      "text/plain": [
       "          0         1         2         3         4         5         6  \\\n",
       "0  0.312531  0.000000  0.000000  0.319760  0.359616  0.403206  0.000000   \n",
       "1  0.790928  0.201818  0.181630  0.049657  0.629602  0.110229  0.000000   \n",
       "2  0.434409  0.628495  0.033642  0.166405  0.050123  0.092723  0.078000   \n",
       "3  0.090466  0.453873  0.058647  0.291925  0.449421  0.641810  0.000000   \n",
       "4  0.000000  0.187585  0.351704  0.092264  0.143374  0.257472  0.027626   \n",
       "\n",
       "          7         8    9                                           contents  \\\n",
       "0  0.626835  0.354930  0.0  A d v e r t i s e m e n tshow_banners();Are yo...   \n",
       "1  0.000000  0.071861  0.0  Tehran has warned that any attack on the count...   \n",
       "2  0.000000  0.184942  0.0  As               I write, little more than a w...   \n",
       "3  0.000000  0.928823  0.0  President-elect Barack Obama’s choice for Whit...   \n",
       "4  0.152609  0.917632  0.0  BAGHDAD — Iraq’s cabinet on Sunday overwhelmin...   \n",
       "\n",
       "                                              tokens  year  \n",
       "0  [tshow, banners, ready, next, tuesday, cnn, el...  2008  \n",
       "1  [tehran, warned, attack, insanity, case, exten...  2008  \n",
       "2  [little, week, remains, americans, vote, nerve...  2008  \n",
       "3  [president, elect, barack, obama, choice, hous...  2008  \n",
       "4  [baghdad, iraq, cabinet, sunday, overwhelmingl...  2008  "
      ]
     },
     "execution_count": 172,
     "metadata": {},
     "output_type": "execute_result"
    }
   ],
   "source": [
    "all_articles = all_articles.apply(fill_topic_weights,\n",
    "                             axis=1,\n",
    "                             args=[bow_corpus, ldamodel]) \\\n",
    "                      .fillna(0)\n",
    "\n",
    "all_articles.head()"
   ]
  },
  {
   "cell_type": "markdown",
   "metadata": {},
   "source": [
    "### See the variations in topics over time"
   ]
  },
  {
   "cell_type": "code",
   "execution_count": 290,
   "metadata": {},
   "outputs": [
    {
     "data": {
      "image/png": "[encoded data removed]",
      "text/plain": [
       "<Figure size 432x288 with 1 Axes>"
      ]
     },
     "metadata": {
      "needs_background": "light"
     },
     "output_type": "display_data"
    }
   ],
   "source": [
    "all_articles['year'] = all_articles['year'].astype(str)\n",
    "all_articles.groupby(['year']) \\\n",
    "                  .mean() \\\n",
    "                  .plot();"
   ]
  },
  {
   "cell_type": "markdown",
   "metadata": {},
   "source": [
    "### Move on to dynamic topic modelling\n",
    "\n",
    "1. Obtain Time Slices\n",
    "2. Stem words and create corpus\n",
    "3. fit model\n",
    "4. Save model\n",
    "5. Visualise results"
   ]
  },
  {
   "cell_type": "markdown",
   "metadata": {},
   "source": [
    "### Obtain time slices (do this even if you have a saved topic model to load)"
   ]
  },
  {
   "cell_type": "code",
   "execution_count": 8,
   "metadata": {},
   "outputs": [
    {
     "name": "stdout",
     "output_type": "stream",
     "text": [
      "Transcripts in Time Slice 0: 230\n",
      "Transcripts in Time Slice 1: 140\n",
      "Transcripts in Time Slice 2: 842\n",
      "Transcripts in Time Slice 3: 643\n",
      "Transcripts in Time Slice 4: 45\n"
     ]
    }
   ],
   "source": [
    "# Get number of transcripts in each time slice\n",
    "time_slice = all_articles.groupby('year')['contents'].count().to_list()\n",
    "\n",
    "for i in range(len(time_slice)):\n",
    "    print(\"Transcripts in Time Slice {}:\".format(i), time_slice[i])"
   ]
  },
  {
   "cell_type": "markdown",
   "metadata": {},
   "source": [
    "### Stem Words and create corpus (do this even if you have a saved topic model to load)"
   ]
  },
  {
   "cell_type": "code",
   "execution_count": 9,
   "metadata": {},
   "outputs": [],
   "source": [
    "stemmed_tokens = tokenize_infowars(all_articles['contents'])\n",
    "dictionary, bow_corpus = prepare_data(stemmed_tokens)"
   ]
  },
  {
   "cell_type": "markdown",
   "metadata": {},
   "source": [
    "### Fit model"
   ]
  },
  {
   "cell_type": "code",
   "execution_count": 180,
   "metadata": {},
   "outputs": [
    {
     "name": "stderr",
     "output_type": "stream",
     "text": [
      "C:\\Users\\thiya\\AppData\\Roaming\\Python\\Python37\\site-packages\\gensim\\models\\ldaseqmodel.py:1478: RuntimeWarning: invalid value encountered in double_scalars\n",
      "  converged = np.fabs((lhood_old - lhood) / (lhood_old * total))\n",
      "C:\\Users\\thiya\\AppData\\Roaming\\Python\\Python37\\site-packages\\gensim\\models\\ldaseqmodel.py:297: RuntimeWarning: divide by zero encountered in double_scalars\n",
      "  convergence = np.fabs((bound - old_bound) / old_bound)\n",
      "C:\\Users\\thiya\\AppData\\Roaming\\Python\\Python37\\site-packages\\gensim\\models\\ldaseqmodel.py:1478: RuntimeWarning: invalid value encountered in double_scalars\n",
      "  converged = np.fabs((lhood_old - lhood) / (lhood_old * total))\n",
      "C:\\Users\\thiya\\AppData\\Roaming\\Python\\Python37\\site-packages\\gensim\\models\\ldaseqmodel.py:1478: RuntimeWarning: invalid value encountered in double_scalars\n",
      "  converged = np.fabs((lhood_old - lhood) / (lhood_old * total))\n",
      "C:\\Users\\thiya\\AppData\\Roaming\\Python\\Python37\\site-packages\\gensim\\models\\ldaseqmodel.py:1478: RuntimeWarning: invalid value encountered in double_scalars\n",
      "  converged = np.fabs((lhood_old - lhood) / (lhood_old * total))\n",
      "C:\\Users\\thiya\\AppData\\Roaming\\Python\\Python37\\site-packages\\gensim\\models\\ldaseqmodel.py:1478: RuntimeWarning: invalid value encountered in double_scalars\n",
      "  converged = np.fabs((lhood_old - lhood) / (lhood_old * total))\n",
      "C:\\Users\\thiya\\AppData\\Roaming\\Python\\Python37\\site-packages\\gensim\\models\\ldaseqmodel.py:1478: RuntimeWarning: invalid value encountered in double_scalars\n",
      "  converged = np.fabs((lhood_old - lhood) / (lhood_old * total))\n",
      "C:\\Users\\thiya\\AppData\\Roaming\\Python\\Python37\\site-packages\\gensim\\models\\ldaseqmodel.py:1478: RuntimeWarning: invalid value encountered in double_scalars\n",
      "  converged = np.fabs((lhood_old - lhood) / (lhood_old * total))\n",
      "C:\\Users\\thiya\\AppData\\Roaming\\Python\\Python37\\site-packages\\gensim\\models\\ldaseqmodel.py:1478: RuntimeWarning: invalid value encountered in double_scalars\n",
      "  converged = np.fabs((lhood_old - lhood) / (lhood_old * total))\n",
      "C:\\Users\\thiya\\AppData\\Roaming\\Python\\Python37\\site-packages\\gensim\\models\\ldaseqmodel.py:1478: RuntimeWarning: invalid value encountered in double_scalars\n",
      "  converged = np.fabs((lhood_old - lhood) / (lhood_old * total))\n",
      "C:\\Users\\thiya\\AppData\\Roaming\\Python\\Python37\\site-packages\\gensim\\models\\ldaseqmodel.py:1478: RuntimeWarning: invalid value encountered in double_scalars\n",
      "  converged = np.fabs((lhood_old - lhood) / (lhood_old * total))\n",
      "C:\\Users\\thiya\\AppData\\Roaming\\Python\\Python37\\site-packages\\gensim\\models\\ldaseqmodel.py:1478: RuntimeWarning: invalid value encountered in double_scalars\n",
      "  converged = np.fabs((lhood_old - lhood) / (lhood_old * total))\n",
      "C:\\Users\\thiya\\AppData\\Roaming\\Python\\Python37\\site-packages\\gensim\\models\\ldaseqmodel.py:1478: RuntimeWarning: invalid value encountered in double_scalars\n",
      "  converged = np.fabs((lhood_old - lhood) / (lhood_old * total))\n",
      "C:\\Users\\thiya\\AppData\\Roaming\\Python\\Python37\\site-packages\\gensim\\models\\ldaseqmodel.py:1478: RuntimeWarning: invalid value encountered in double_scalars\n",
      "  converged = np.fabs((lhood_old - lhood) / (lhood_old * total))\n",
      "C:\\Users\\thiya\\AppData\\Roaming\\Python\\Python37\\site-packages\\gensim\\models\\ldaseqmodel.py:1478: RuntimeWarning: invalid value encountered in double_scalars\n",
      "  converged = np.fabs((lhood_old - lhood) / (lhood_old * total))\n",
      "C:\\Users\\thiya\\AppData\\Roaming\\Python\\Python37\\site-packages\\gensim\\models\\ldaseqmodel.py:1478: RuntimeWarning: invalid value encountered in double_scalars\n",
      "  converged = np.fabs((lhood_old - lhood) / (lhood_old * total))\n",
      "C:\\Users\\thiya\\AppData\\Roaming\\Python\\Python37\\site-packages\\gensim\\models\\ldaseqmodel.py:1478: RuntimeWarning: invalid value encountered in double_scalars\n",
      "  converged = np.fabs((lhood_old - lhood) / (lhood_old * total))\n",
      "C:\\Users\\thiya\\AppData\\Roaming\\Python\\Python37\\site-packages\\gensim\\models\\ldaseqmodel.py:1478: RuntimeWarning: invalid value encountered in double_scalars\n",
      "  converged = np.fabs((lhood_old - lhood) / (lhood_old * total))\n",
      "C:\\Users\\thiya\\AppData\\Roaming\\Python\\Python37\\site-packages\\gensim\\models\\ldaseqmodel.py:1478: RuntimeWarning: invalid value encountered in double_scalars\n",
      "  converged = np.fabs((lhood_old - lhood) / (lhood_old * total))\n",
      "C:\\Users\\thiya\\AppData\\Roaming\\Python\\Python37\\site-packages\\gensim\\models\\ldaseqmodel.py:1478: RuntimeWarning: invalid value encountered in double_scalars\n",
      "  converged = np.fabs((lhood_old - lhood) / (lhood_old * total))\n",
      "C:\\Users\\thiya\\AppData\\Roaming\\Python\\Python37\\site-packages\\gensim\\models\\ldaseqmodel.py:1478: RuntimeWarning: invalid value encountered in double_scalars\n",
      "  converged = np.fabs((lhood_old - lhood) / (lhood_old * total))\n",
      "C:\\Users\\thiya\\AppData\\Roaming\\Python\\Python37\\site-packages\\gensim\\models\\ldaseqmodel.py:1478: RuntimeWarning: invalid value encountered in double_scalars\n",
      "  converged = np.fabs((lhood_old - lhood) / (lhood_old * total))\n"
     ]
    }
   ],
   "source": [
    "# fit model\n",
    "infowars_dtm = LdaSeqModel(bow_corpus,\n",
    "                     time_slice,\n",
    "                     id2word=dictionary,\n",
    "                     num_topics=10)"
   ]
  },
  {
   "cell_type": "markdown",
   "metadata": {},
   "source": [
    "### save/load from model file to save time on model fitting, \n",
    "#### you must have stemmed the tokens and created the corpus manually first"
   ]
  },
  {
   "cell_type": "code",
   "execution_count": 10,
   "metadata": {
    "scrolled": true
   },
   "outputs": [
    {
     "name": "stderr",
     "output_type": "stream",
     "text": [
      "WARNING:root:random_state not set so using default value\n"
     ]
    }
   ],
   "source": [
    "# save it as 'dtm.model' included in folder\n",
    "# ldaseq.save('dtm.model')\n",
    "infowars_dtm = models.LdaModel.load('topic_models/dtm.model')"
   ]
  },
  {
   "cell_type": "markdown",
   "metadata": {},
   "source": [
    "### Visualise results"
   ]
  },
  {
   "cell_type": "code",
   "execution_count": 283,
   "metadata": {},
   "outputs": [
    {
     "name": "stdout",
     "output_type": "stream",
     "text": [
      "Coherence at Time Slice 0: -0.8431286782776221\n",
      "Coherence at Time Slice 1: -0.8600570250023427\n",
      "Coherence at Time Slice 2: -0.8865567447098648\n",
      "Coherence at Time Slice 3: -0.8836514962212074\n",
      "Coherence at Time Slice 4: -0.8980958742220426\n",
      "Average Coherence:  -0.8742979636866159\n",
      "##### Topic 0, Time Slice 0 #####\n",
      "['us', 'make', 'good', 'government', 'media', 'world', 'new', 'tell', 'anyone', 'party']\n",
      "##### Topic 0, Time Slice 1 #####\n",
      "['us', 'make', 'good', 'government', 'media', 'world', 'new', 'tell', 'anyone', 'party']\n",
      "##### Topic 0, Time Slice 2 #####\n",
      "['us', 'make', 'good', 'government', 'media', 'world', 'new', 'tell', 'party', 'anyone']\n",
      "##### Topic 0, Time Slice 3 #####\n",
      "['us', 'good', 'government', 'make', 'media', 'world', 'new', 'tell', 'party', 'well']\n",
      "##### Topic 0, Time Slice 4 #####\n",
      "['us', 'good', 'government', 'make', 'media', 'world', 'new', 'tell', 'border', 'party']\n",
      "\n",
      "\n",
      "##### Topic 1, Time Slice 0 #####\n",
      "['tsa', 'security', 'us', 'body', 'government', 'scanners', 'airport', 'make', 'fly', 'children']\n",
      "##### Topic 1, Time Slice 1 #####\n",
      "['tsa', 'security', 'us', 'government', 'body', 'scanners', 'airport', 'make', 'fly', 'children']\n",
      "##### Topic 1, Time Slice 2 #####\n",
      "['tsa', 'security', 'us', 'government', 'body', 'scanners', 'airport', 'make', 'fly', 'children']\n",
      "##### Topic 1, Time Slice 3 #####\n",
      "['tsa', 'security', 'us', 'government', 'body', 'scanners', 'airport', 'make', 'children', 'fly']\n",
      "##### Topic 1, Time Slice 4 #####\n",
      "['tsa', 'security', 'us', 'body', 'government', 'scanners', 'airport', 'make', 'children', 'police']\n",
      "\n",
      "\n",
      "##### Topic 2, Time Slice 0 #####\n",
      "['map', 'us', 'world', 'new', 'service', 'good', 'make', 'government', 'free', 'obama']\n",
      "##### Topic 2, Time Slice 1 #####\n",
      "['us', 'world', 'new', 'map', 'cia', 'good', 'make', 'government', 'free', 'obama']\n",
      "##### Topic 2, Time Slice 2 #####\n",
      "['us', 'world', 'cia', 'new', 'uk', 'good', 'make', 'government', 'money', 'free']\n",
      "##### Topic 2, Time Slice 3 #####\n",
      "['cia', 'us', 'world', 'new', 'uk', 'good', 'make', 'military', 'government', 'free']\n",
      "##### Topic 2, Time Slice 4 #####\n",
      "['cia', 'us', 'world', 'new', 'uk', 'good', 'military', 'make', 'exercise', 'air']\n",
      "\n",
      "\n",
      "##### Topic 3, Time Slice 0 #####\n",
      "['us', 'world', 'good', 'police', 'new', 'jesus', 'hell', 'christ', 'cops', 'make']\n",
      "##### Topic 3, Time Slice 1 #####\n",
      "['us', 'world', 'good', 'new', 'jesus', 'police', 'hell', 'christ', 'make', 'cops']\n",
      "##### Topic 3, Time Slice 2 #####\n",
      "['us', 'world', 'good', 'new', 'jesus', 'hell', 'make', 'cops', 'police', 'well']\n",
      "##### Topic 3, Time Slice 3 #####\n",
      "['us', 'good', 'world', 'new', 'jesus', 'hell', 'make', 'cops', 'well', 'police']\n",
      "##### Topic 3, Time Slice 4 #####\n",
      "['us', 'good', 'world', 'new', 'jesus', 'hell', 'make', 'cops', 'well', 'police']\n",
      "\n",
      "\n",
      "##### Topic 4, Time Slice 0 #####\n",
      "['money', 'gold', 'us', 'fed', 'federal', 'reserve', 'world', 'banks', 'government', 'economic']\n",
      "##### Topic 4, Time Slice 1 #####\n",
      "['money', 'gold', 'us', 'fed', 'federal', 'reserve', 'world', 'silver', 'government', 'banks']\n",
      "##### Topic 4, Time Slice 2 #####\n",
      "['money', 'us', 'fed', 'federal', 'reserve', 'world', 'gold', 'government', 'debt', 'bank']\n",
      "##### Topic 4, Time Slice 3 #####\n",
      "['money', 'us', 'fed', 'federal', 'reserve', 'world', 'government', 'debt', 'banks', 'bank']\n",
      "##### Topic 4, Time Slice 4 #####\n",
      "['money', 'fed', 'us', 'federal', 'reserve', 'world', 'government', 'debt', 'banks', 'economy']\n",
      "\n",
      "\n",
      "##### Topic 5, Time Slice 0 #####\n",
      "['law', 'states', 'constitution', 'government', 'flag', 'united', 'act', 'war', 'congress', 'power']\n",
      "##### Topic 5, Time Slice 1 #####\n",
      "['law', 'states', 'flag', 'constitution', 'government', 'united', 'act', 'war', 'congress', 'power']\n",
      "##### Topic 5, Time Slice 2 #####\n",
      "['law', 'states', 'flag', 'constitution', 'government', 'united', 'power', 'act', 'war', 'congress']\n",
      "##### Topic 5, Time Slice 3 #####\n",
      "['law', 'states', 'constitution', 'government', 'flag', 'united', 'power', 'act', 'congress', 'war']\n",
      "##### Topic 5, Time Slice 4 #####\n",
      "['law', 'states', 'constitution', 'government', 'flag', 'united', 'power', 'act', 'congress', 'war']\n",
      "\n",
      "\n",
      "##### Topic 6, Time Slice 0 #####\n",
      "['water', 'health', 'flu', 'fluoride', 'government', 'us', 'vaccine', 'good', 'medical', 'vaccines']\n",
      "##### Topic 6, Time Slice 1 #####\n",
      "['water', 'health', 'fluoride', 'flu', 'government', 'us', 'good', 'vaccine', 'medical', 'vaccines']\n",
      "##### Topic 6, Time Slice 2 #####\n",
      "['water', 'fluoride', 'health', 'flu', 'government', 'us', 'good', 'cancer', 'make', 'well']\n",
      "##### Topic 6, Time Slice 3 #####\n",
      "['water', 'health', 'fluoride', 'flu', 'government', 'us', 'medical', 'cancer', 'good', 'vaccine']\n",
      "##### Topic 6, Time Slice 4 #####\n",
      "['water', 'health', 'fluoride', 'flu', 'government', 'medical', 'us', 'cancer', 'good', 'vaccine']\n",
      "\n",
      "\n",
      "##### Topic 7, Time Slice 0 #####\n",
      "['global', 'climate', 'world', 'warming', 'us', 'earth', 'change', 'new', 'gore', 'planet']\n",
      "##### Topic 7, Time Slice 1 #####\n",
      "['global', 'climate', 'world', 'us', 'warming', 'earth', 'change', 'new', 'planet', 'gore']\n",
      "##### Topic 7, Time Slice 2 #####\n",
      "['world', 'us', 'global', 'climate', 'earth', 'new', 'warming', 'change', 'planet', 'order']\n",
      "##### Topic 7, Time Slice 3 #####\n",
      "['world', 'climate', 'us', 'global', 'earth', 'new', 'change', 'warming', 'planet', 'order']\n",
      "##### Topic 7, Time Slice 4 #####\n",
      "['world', 'climate', 'us', 'global', 'earth', 'new', 'change', 'warming', 'planet', 'order']\n",
      "\n",
      "\n",
      "##### Topic 8, Time Slice 0 #####\n",
      "['government', 'state', 'vote', 'bill', 'federal', 'law', 'rights', 'court', 'paul', 'political']\n",
      "##### Topic 8, Time Slice 1 #####\n",
      "['government', 'state', 'bill', 'vote', 'federal', 'law', 'rights', 'court', 'paul', 'escape']\n",
      "##### Topic 8, Time Slice 2 #####\n",
      "['government', 'state', 'bill', 'vote', 'law', 'court', 'federal', 'rights', 'paul', 'escape']\n",
      "##### Topic 8, Time Slice 3 #####\n",
      "['government', 'bill', 'state', 'federal', 'vote', 'court', 'law', 'rights', 'paul', 'illegal']\n",
      "##### Topic 8, Time Slice 4 #####\n",
      "['government', 'bill', 'state', 'federal', 'vote', 'court', 'law', 'rights', 'paul', 'illegal']\n",
      "\n",
      "\n",
      "##### Topic 9, Time Slice 0 #####\n",
      "['war', 'us', 'obama', 'military', 'world', 'iran', 'israel', 'nuclear', 'iraq', 'president']\n",
      "##### Topic 9, Time Slice 1 #####\n",
      "['war', 'us', 'obama', 'iran', 'world', 'military', 'israel', 'iraq', 'new', 'president']\n",
      "##### Topic 9, Time Slice 2 #####\n",
      "['war', 'us', 'iran', 'military', 'obama', 'world', 'israel', 'escape', 'referrer', 'korea']\n",
      "##### Topic 9, Time Slice 3 #####\n",
      "['iran', 'us', 'military', 'war', 'obama', 'escape', 'israel', 'nuclear', 'world', 'new']\n",
      "##### Topic 9, Time Slice 4 #####\n",
      "['iran', 'us', 'military', 'obama', 'war', 'escape', 'nuclear', 'israel', 'world', 'new']\n",
      "\n",
      "\n"
     ]
    }
   ],
   "source": [
    "coherence = dtm_coherence([infowars_dtm],\n",
    "                              bow_corpus,\n",
    "                              dictionary,\n",
    "                              n_time_slices=len(time_slice))\n",
    "\n",
    "# Can check coherence for each model at each time slice\n",
    "for i, score in enumerate(coherence[0]):\n",
    "    print(\"Coherence at Time Slice {}:\".format(i), score)\n",
    "\n",
    "# As well as compute averages for overall comparison of models\n",
    "print(\"Average Coherence: \", \n",
    "      sum(coherence[0]) / len(coherence[0]))\n",
    "\n",
    "print_dtm(infowars_dtm, n_topics=10, n_time_slices=5)"
   ]
  },
  {
   "cell_type": "code",
   "execution_count": 11,
   "metadata": {},
   "outputs": [
    {
     "name": "stderr",
     "output_type": "stream",
     "text": [
      "C:\\Users\\thiya\\AppData\\Roaming\\Python\\Python37\\site-packages\\pyLDAvis\\_prepare.py:247: FutureWarning: In a future version of pandas all arguments of DataFrame.drop except for the argument 'labels' will be keyword-only\n",
      "  by='saliency', ascending=False).head(R).drop('saliency', 1)\n",
      "C:\\ProgramData\\Anaconda3\\lib\\site-packages\\joblib\\numpy_pickle.py:104: DeprecationWarning: tostring() is deprecated. Use tobytes() instead.\n",
      "  pickler.file_handle.write(chunk.tostring('C'))\n",
      "C:\\ProgramData\\Anaconda3\\lib\\site-packages\\joblib\\numpy_pickle.py:104: DeprecationWarning: tostring() is deprecated. Use tobytes() instead.\n",
      "  pickler.file_handle.write(chunk.tostring('C'))\n",
      "C:\\ProgramData\\Anaconda3\\lib\\site-packages\\joblib\\numpy_pickle.py:104: DeprecationWarning: tostring() is deprecated. Use tobytes() instead.\n",
      "  pickler.file_handle.write(chunk.tostring('C'))\n",
      "C:\\ProgramData\\Anaconda3\\lib\\site-packages\\joblib\\numpy_pickle.py:104: DeprecationWarning: tostring() is deprecated. Use tobytes() instead.\n",
      "  pickler.file_handle.write(chunk.tostring('C'))\n",
      "C:\\ProgramData\\Anaconda3\\lib\\site-packages\\joblib\\numpy_pickle.py:104: DeprecationWarning: tostring() is deprecated. Use tobytes() instead.\n",
      "  pickler.file_handle.write(chunk.tostring('C'))\n",
      "C:\\ProgramData\\Anaconda3\\lib\\site-packages\\joblib\\numpy_pickle.py:104: DeprecationWarning: tostring() is deprecated. Use tobytes() instead.\n",
      "  pickler.file_handle.write(chunk.tostring('C'))\n",
      "C:\\ProgramData\\Anaconda3\\lib\\site-packages\\joblib\\numpy_pickle.py:104: DeprecationWarning: tostring() is deprecated. Use tobytes() instead.\n",
      "  pickler.file_handle.write(chunk.tostring('C'))\n",
      "C:\\ProgramData\\Anaconda3\\lib\\site-packages\\joblib\\numpy_pickle.py:104: DeprecationWarning: tostring() is deprecated. Use tobytes() instead.\n",
      "  pickler.file_handle.write(chunk.tostring('C'))\n",
      "C:\\ProgramData\\Anaconda3\\lib\\site-packages\\joblib\\numpy_pickle.py:104: DeprecationWarning: tostring() is deprecated. Use tobytes() instead.\n",
      "  pickler.file_handle.write(chunk.tostring('C'))\n",
      "C:\\ProgramData\\Anaconda3\\lib\\site-packages\\joblib\\numpy_pickle.py:104: DeprecationWarning: tostring() is deprecated. Use tobytes() instead.\n",
      "  pickler.file_handle.write(chunk.tostring('C'))\n"
     ]
    },
    {
     "data": {
      "application/vnd.jupyter.widget-view+json": {
       "model_id": "ea217a53ed8f41ecbf8ce2c707ec78cf",
       "version_major": 2,
       "version_minor": 0
      },
      "text/plain": [
       "interactive(children=(Dropdown(description='Year', options=('2008', '2009', '2010', '2011', '2012'), value='20…"
      ]
     },
     "metadata": {},
     "output_type": "display_data"
    }
   ],
   "source": [
    "pyLDAvis.enable_notebook()\n",
    "\n",
    "# Create pyLDAvis visualization for each year:\n",
    "vis = {}\n",
    "dates = pd.Series(['2008', '2009', '2010', '2011', '2012'])\n",
    "for i in range(5):\n",
    "    doc_topic, topic_term, doc_lengths, term_frequency, vocab = infowars_dtm.dtm_vis(time=i, corpus=bow_corpus)\n",
    "    vis[dates[i]] = pyLDAvis.prepare(topic_term_dists=topic_term,\n",
    "                                            doc_topic_dists=doc_topic,\n",
    "                                            doc_lengths=doc_lengths,\n",
    "                                            vocab=vocab,\n",
    "                                            term_frequency=term_frequency)\n",
    "\n",
    "# Make an interactive plot so we can cycle through topics by year:\n",
    "@interact(Year=dates)\n",
    "def f(Year):\n",
    "    return vis[Year]"
   ]
  },
  {
   "cell_type": "markdown",
   "metadata": {},
   "source": [
    "### Save visuals"
   ]
  },
  {
   "cell_type": "code",
   "execution_count": 285,
   "metadata": {},
   "outputs": [],
   "source": [
    "# optionally save\n",
    "for i in range(len(time_slice)):\n",
    "    pyLDAvis.save_html(vis[dates[i]], 'infowars_t{}.html'.format(i))"
   ]
  },
  {
   "cell_type": "markdown",
   "metadata": {},
   "source": [
    "### Repeat same process for subset of articles"
   ]
  },
  {
   "cell_type": "code",
   "execution_count": 12,
   "metadata": {},
   "outputs": [],
   "source": [
    "articles_subset = all_articles[0::10]"
   ]
  },
  {
   "cell_type": "code",
   "execution_count": 189,
   "metadata": {},
   "outputs": [
    {
     "data": {
      "text/html": [
       "<div>\n",
       "<style scoped>\n",
       "    .dataframe tbody tr th:only-of-type {\n",
       "        vertical-align: middle;\n",
       "    }\n",
       "\n",
       "    .dataframe tbody tr th {\n",
       "        vertical-align: top;\n",
       "    }\n",
       "\n",
       "    .dataframe thead th {\n",
       "        text-align: right;\n",
       "    }\n",
       "</style>\n",
       "<table border=\"1\" class=\"dataframe\">\n",
       "  <thead>\n",
       "    <tr style=\"text-align: right;\">\n",
       "      <th></th>\n",
       "      <th>0</th>\n",
       "      <th>1</th>\n",
       "      <th>2</th>\n",
       "      <th>3</th>\n",
       "      <th>4</th>\n",
       "      <th>5</th>\n",
       "      <th>6</th>\n",
       "      <th>7</th>\n",
       "      <th>8</th>\n",
       "      <th>9</th>\n",
       "      <th>contents</th>\n",
       "      <th>tokens</th>\n",
       "      <th>year</th>\n",
       "    </tr>\n",
       "  </thead>\n",
       "  <tbody>\n",
       "    <tr>\n",
       "      <th>0</th>\n",
       "      <td>0.312531</td>\n",
       "      <td>0.000000</td>\n",
       "      <td>0.000000</td>\n",
       "      <td>0.319760</td>\n",
       "      <td>0.359616</td>\n",
       "      <td>0.403206</td>\n",
       "      <td>0.000000</td>\n",
       "      <td>0.626835</td>\n",
       "      <td>0.354930</td>\n",
       "      <td>0.000000</td>\n",
       "      <td>A d v e r t i s e m e n tshow_banners();Are yo...</td>\n",
       "      <td>[tshow, banners, ready, next, tuesday, cnn, el...</td>\n",
       "      <td>2008</td>\n",
       "    </tr>\n",
       "    <tr>\n",
       "      <th>10</th>\n",
       "      <td>0.000000</td>\n",
       "      <td>0.351994</td>\n",
       "      <td>0.279603</td>\n",
       "      <td>0.574679</td>\n",
       "      <td>0.614760</td>\n",
       "      <td>0.115030</td>\n",
       "      <td>0.031976</td>\n",
       "      <td>0.171028</td>\n",
       "      <td>0.401373</td>\n",
       "      <td>0.144173</td>\n",
       "      <td>Panelists with the Stop Real ID Coalition are ...</td>\n",
       "      <td>[panelists, stop, id, coalition, calling, repe...</td>\n",
       "      <td>2008</td>\n",
       "    </tr>\n",
       "    <tr>\n",
       "      <th>20</th>\n",
       "      <td>0.341401</td>\n",
       "      <td>0.369421</td>\n",
       "      <td>0.019840</td>\n",
       "      <td>0.174312</td>\n",
       "      <td>0.520172</td>\n",
       "      <td>0.118471</td>\n",
       "      <td>0.000000</td>\n",
       "      <td>0.879862</td>\n",
       "      <td>0.375037</td>\n",
       "      <td>0.044635</td>\n",
       "      <td>Foreign   \\t\\tPolicy Journal has learned that ...</td>\n",
       "      <td>[foreign, policy, journal, learned, senior, ex...</td>\n",
       "      <td>2008</td>\n",
       "    </tr>\n",
       "    <tr>\n",
       "      <th>30</th>\n",
       "      <td>0.000000</td>\n",
       "      <td>0.000000</td>\n",
       "      <td>0.325036</td>\n",
       "      <td>0.209491</td>\n",
       "      <td>0.478848</td>\n",
       "      <td>0.303548</td>\n",
       "      <td>0.779937</td>\n",
       "      <td>0.988283</td>\n",
       "      <td>0.000000</td>\n",
       "      <td>0.000000</td>\n",
       "      <td>Residents in Newcastle who complain that drive...</td>\n",
       "      <td>[residents, newcastle, complain, drivers, spee...</td>\n",
       "      <td>2008</td>\n",
       "    </tr>\n",
       "    <tr>\n",
       "      <th>40</th>\n",
       "      <td>0.000000</td>\n",
       "      <td>0.000000</td>\n",
       "      <td>0.124498</td>\n",
       "      <td>0.334718</td>\n",
       "      <td>0.132082</td>\n",
       "      <td>0.042623</td>\n",
       "      <td>0.859817</td>\n",
       "      <td>0.271039</td>\n",
       "      <td>0.000000</td>\n",
       "      <td>0.678512</td>\n",
       "      <td>The American surveillance society is one of th...</td>\n",
       "      <td>[surveillance, society, worst, according, priv...</td>\n",
       "      <td>2008</td>\n",
       "    </tr>\n",
       "    <tr>\n",
       "      <th>...</th>\n",
       "      <td>...</td>\n",
       "      <td>...</td>\n",
       "      <td>...</td>\n",
       "      <td>...</td>\n",
       "      <td>...</td>\n",
       "      <td>...</td>\n",
       "      <td>...</td>\n",
       "      <td>...</td>\n",
       "      <td>...</td>\n",
       "      <td>...</td>\n",
       "      <td>...</td>\n",
       "      <td>...</td>\n",
       "      <td>...</td>\n",
       "    </tr>\n",
       "    <tr>\n",
       "      <th>638</th>\n",
       "      <td>0.203010</td>\n",
       "      <td>0.815400</td>\n",
       "      <td>0.250812</td>\n",
       "      <td>0.184512</td>\n",
       "      <td>0.165477</td>\n",
       "      <td>0.631455</td>\n",
       "      <td>0.749107</td>\n",
       "      <td>0.000000</td>\n",
       "      <td>0.995726</td>\n",
       "      <td>0.000000</td>\n",
       "      <td>Despite calls for the inclusion of Pneumococca...</td>\n",
       "      <td>[despite, calls, inclusion, pneumococcal, conj...</td>\n",
       "      <td>2011</td>\n",
       "    </tr>\n",
       "    <tr>\n",
       "      <th>5</th>\n",
       "      <td>0.038559</td>\n",
       "      <td>0.000000</td>\n",
       "      <td>0.423679</td>\n",
       "      <td>0.120795</td>\n",
       "      <td>0.415161</td>\n",
       "      <td>0.830597</td>\n",
       "      <td>0.081020</td>\n",
       "      <td>0.000000</td>\n",
       "      <td>0.085430</td>\n",
       "      <td>0.000000</td>\n",
       "      <td>On Tuesday, the Florida State Supreme Court wa...</td>\n",
       "      <td>[tuesday, florida, state, supreme, court, aske...</td>\n",
       "      <td>2012</td>\n",
       "    </tr>\n",
       "    <tr>\n",
       "      <th>15</th>\n",
       "      <td>0.000000</td>\n",
       "      <td>0.151105</td>\n",
       "      <td>0.125155</td>\n",
       "      <td>0.407359</td>\n",
       "      <td>0.230874</td>\n",
       "      <td>0.239387</td>\n",
       "      <td>0.595110</td>\n",
       "      <td>0.000000</td>\n",
       "      <td>0.162971</td>\n",
       "      <td>0.112577</td>\n",
       "      <td>Did you watch the presidential debate on Wedne...</td>\n",
       "      <td>[presidential, debate, wednesday, night, absol...</td>\n",
       "      <td>2012</td>\n",
       "    </tr>\n",
       "    <tr>\n",
       "      <th>25</th>\n",
       "      <td>0.904694</td>\n",
       "      <td>0.239021</td>\n",
       "      <td>0.440334</td>\n",
       "      <td>0.206984</td>\n",
       "      <td>0.243580</td>\n",
       "      <td>0.075475</td>\n",
       "      <td>0.455903</td>\n",
       "      <td>0.334535</td>\n",
       "      <td>0.694761</td>\n",
       "      <td>0.000000</td>\n",
       "      <td>Instead of paying for their lunches with crump...</td>\n",
       "      <td>[instead, paying, lunches, crumpled, dollar, b...</td>\n",
       "      <td>2012</td>\n",
       "    </tr>\n",
       "    <tr>\n",
       "      <th>35</th>\n",
       "      <td>0.092079</td>\n",
       "      <td>0.201623</td>\n",
       "      <td>0.053050</td>\n",
       "      <td>0.039325</td>\n",
       "      <td>0.000000</td>\n",
       "      <td>0.256091</td>\n",
       "      <td>0.118844</td>\n",
       "      <td>0.000000</td>\n",
       "      <td>0.091657</td>\n",
       "      <td>0.448140</td>\n",
       "      <td>New Yorker Magazine editor David Remnick drop...</td>\n",
       "      <td>[yorker, magazine, editor, david, remnick, dro...</td>\n",
       "      <td>2012</td>\n",
       "    </tr>\n",
       "  </tbody>\n",
       "</table>\n",
       "<p>190 rows × 13 columns</p>\n",
       "</div>"
      ],
      "text/plain": [
       "            0         1         2         3         4         5         6  \\\n",
       "0    0.312531  0.000000  0.000000  0.319760  0.359616  0.403206  0.000000   \n",
       "10   0.000000  0.351994  0.279603  0.574679  0.614760  0.115030  0.031976   \n",
       "20   0.341401  0.369421  0.019840  0.174312  0.520172  0.118471  0.000000   \n",
       "30   0.000000  0.000000  0.325036  0.209491  0.478848  0.303548  0.779937   \n",
       "40   0.000000  0.000000  0.124498  0.334718  0.132082  0.042623  0.859817   \n",
       "..        ...       ...       ...       ...       ...       ...       ...   \n",
       "638  0.203010  0.815400  0.250812  0.184512  0.165477  0.631455  0.749107   \n",
       "5    0.038559  0.000000  0.423679  0.120795  0.415161  0.830597  0.081020   \n",
       "15   0.000000  0.151105  0.125155  0.407359  0.230874  0.239387  0.595110   \n",
       "25   0.904694  0.239021  0.440334  0.206984  0.243580  0.075475  0.455903   \n",
       "35   0.092079  0.201623  0.053050  0.039325  0.000000  0.256091  0.118844   \n",
       "\n",
       "            7         8         9  \\\n",
       "0    0.626835  0.354930  0.000000   \n",
       "10   0.171028  0.401373  0.144173   \n",
       "20   0.879862  0.375037  0.044635   \n",
       "30   0.988283  0.000000  0.000000   \n",
       "40   0.271039  0.000000  0.678512   \n",
       "..        ...       ...       ...   \n",
       "638  0.000000  0.995726  0.000000   \n",
       "5    0.000000  0.085430  0.000000   \n",
       "15   0.000000  0.162971  0.112577   \n",
       "25   0.334535  0.694761  0.000000   \n",
       "35   0.000000  0.091657  0.448140   \n",
       "\n",
       "                                              contents  \\\n",
       "0    A d v e r t i s e m e n tshow_banners();Are yo...   \n",
       "10   Panelists with the Stop Real ID Coalition are ...   \n",
       "20   Foreign   \\t\\tPolicy Journal has learned that ...   \n",
       "30   Residents in Newcastle who complain that drive...   \n",
       "40   The American surveillance society is one of th...   \n",
       "..                                                 ...   \n",
       "638  Despite calls for the inclusion of Pneumococca...   \n",
       "5    On Tuesday, the Florida State Supreme Court wa...   \n",
       "15   Did you watch the presidential debate on Wedne...   \n",
       "25   Instead of paying for their lunches with crump...   \n",
       "35    New Yorker Magazine editor David Remnick drop...   \n",
       "\n",
       "                                                tokens  year  \n",
       "0    [tshow, banners, ready, next, tuesday, cnn, el...  2008  \n",
       "10   [panelists, stop, id, coalition, calling, repe...  2008  \n",
       "20   [foreign, policy, journal, learned, senior, ex...  2008  \n",
       "30   [residents, newcastle, complain, drivers, spee...  2008  \n",
       "40   [surveillance, society, worst, according, priv...  2008  \n",
       "..                                                 ...   ...  \n",
       "638  [despite, calls, inclusion, pneumococcal, conj...  2011  \n",
       "5    [tuesday, florida, state, supreme, court, aske...  2012  \n",
       "15   [presidential, debate, wednesday, night, absol...  2012  \n",
       "25   [instead, paying, lunches, crumpled, dollar, b...  2012  \n",
       "35   [yorker, magazine, editor, david, remnick, dro...  2012  \n",
       "\n",
       "[190 rows x 13 columns]"
      ]
     },
     "execution_count": 189,
     "metadata": {},
     "output_type": "execute_result"
    }
   ],
   "source": [
    "articles_subset"
   ]
  },
  {
   "cell_type": "code",
   "execution_count": 13,
   "metadata": {},
   "outputs": [
    {
     "name": "stdout",
     "output_type": "stream",
     "text": [
      "Transcripts in Time Slice 0: 23\n",
      "Transcripts in Time Slice 1: 14\n",
      "Transcripts in Time Slice 2: 85\n",
      "Transcripts in Time Slice 3: 64\n",
      "Transcripts in Time Slice 4: 4\n"
     ]
    }
   ],
   "source": [
    "time_slice = articles_subset.groupby('year')['contents'].count().to_list()\n",
    "\n",
    "for i in range(len(time_slice)):\n",
    "    print(\"Transcripts in Time Slice {}:\".format(i), time_slice[i])\n",
    "\n",
    "stemmed_tokens = tokenize_infowars(articles_subset['contents'])\n",
    "dictionary, bow_corpus = prepare_data(stemmed_tokens)"
   ]
  },
  {
   "cell_type": "markdown",
   "metadata": {},
   "source": [
    "### Load model instead of fitting it, \n",
    "#### you must restem the tokens and recreate time slices as done in the line before this"
   ]
  },
  {
   "cell_type": "code",
   "execution_count": 14,
   "metadata": {},
   "outputs": [
    {
     "name": "stderr",
     "output_type": "stream",
     "text": [
      "WARNING:root:random_state not set so using default value\n"
     ]
    }
   ],
   "source": [
    "# save it as 'dtm.subsetmodel' included in folder\n",
    "# ldaseq.save('dtm.subsetmodel')\n",
    "infowars_subset_dtm = models.LdaModel.load('topic_models/dtm.subsetmodel')"
   ]
  },
  {
   "cell_type": "markdown",
   "metadata": {},
   "source": [
    "### Or you can fit it"
   ]
  },
  {
   "cell_type": "code",
   "execution_count": null,
   "metadata": {},
   "outputs": [],
   "source": [
    "infowars_subset_dtm = LdaSeqModel(bow_corpus,\n",
    "                     time_slice,\n",
    "                     id2word=dictionary,\n",
    "                     num_topics=5)"
   ]
  },
  {
   "cell_type": "code",
   "execution_count": 15,
   "metadata": {},
   "outputs": [
    {
     "name": "stderr",
     "output_type": "stream",
     "text": [
      "C:\\Users\\thiya\\AppData\\Roaming\\Python\\Python37\\site-packages\\pyLDAvis\\_prepare.py:247: FutureWarning: In a future version of pandas all arguments of DataFrame.drop except for the argument 'labels' will be keyword-only\n",
      "  by='saliency', ascending=False).head(R).drop('saliency', 1)\n",
      "C:\\ProgramData\\Anaconda3\\lib\\site-packages\\joblib\\numpy_pickle.py:104: DeprecationWarning: tostring() is deprecated. Use tobytes() instead.\n",
      "  pickler.file_handle.write(chunk.tostring('C'))\n",
      "C:\\ProgramData\\Anaconda3\\lib\\site-packages\\joblib\\numpy_pickle.py:104: DeprecationWarning: tostring() is deprecated. Use tobytes() instead.\n",
      "  pickler.file_handle.write(chunk.tostring('C'))\n",
      "C:\\ProgramData\\Anaconda3\\lib\\site-packages\\joblib\\numpy_pickle.py:104: DeprecationWarning: tostring() is deprecated. Use tobytes() instead.\n",
      "  pickler.file_handle.write(chunk.tostring('C'))\n",
      "C:\\ProgramData\\Anaconda3\\lib\\site-packages\\joblib\\numpy_pickle.py:104: DeprecationWarning: tostring() is deprecated. Use tobytes() instead.\n",
      "  pickler.file_handle.write(chunk.tostring('C'))\n",
      "C:\\ProgramData\\Anaconda3\\lib\\site-packages\\joblib\\numpy_pickle.py:104: DeprecationWarning: tostring() is deprecated. Use tobytes() instead.\n",
      "  pickler.file_handle.write(chunk.tostring('C'))\n",
      "C:\\ProgramData\\Anaconda3\\lib\\site-packages\\joblib\\numpy_pickle.py:104: DeprecationWarning: tostring() is deprecated. Use tobytes() instead.\n",
      "  pickler.file_handle.write(chunk.tostring('C'))\n",
      "C:\\ProgramData\\Anaconda3\\lib\\site-packages\\joblib\\numpy_pickle.py:104: DeprecationWarning: tostring() is deprecated. Use tobytes() instead.\n",
      "  pickler.file_handle.write(chunk.tostring('C'))\n",
      "C:\\ProgramData\\Anaconda3\\lib\\site-packages\\joblib\\numpy_pickle.py:104: DeprecationWarning: tostring() is deprecated. Use tobytes() instead.\n",
      "  pickler.file_handle.write(chunk.tostring('C'))\n",
      "C:\\ProgramData\\Anaconda3\\lib\\site-packages\\joblib\\numpy_pickle.py:104: DeprecationWarning: tostring() is deprecated. Use tobytes() instead.\n",
      "  pickler.file_handle.write(chunk.tostring('C'))\n",
      "C:\\ProgramData\\Anaconda3\\lib\\site-packages\\joblib\\numpy_pickle.py:104: DeprecationWarning: tostring() is deprecated. Use tobytes() instead.\n",
      "  pickler.file_handle.write(chunk.tostring('C'))\n"
     ]
    },
    {
     "data": {
      "application/vnd.jupyter.widget-view+json": {
       "model_id": "e1d88c18bf374d3aba17d6b056753757",
       "version_major": 2,
       "version_minor": 0
      },
      "text/plain": [
       "interactive(children=(Dropdown(description='Year', options=('2008', '2009', '2010', '2011', '2012'), value='20…"
      ]
     },
     "metadata": {},
     "output_type": "display_data"
    }
   ],
   "source": [
    "pyLDAvis.enable_notebook()\n",
    "\n",
    "# Create pyLDAvis visualization for each year:\n",
    "vis = {}\n",
    "dates = pd.Series(['2008', '2009', '2010', '2011', '2012'])\n",
    "for i in range(5):\n",
    "    doc_topic, topic_term, doc_lengths, term_frequency, vocab = infowars_subset_dtm.dtm_vis(time=i, corpus=bow_corpus)\n",
    "    vis[dates[i]] = pyLDAvis.prepare(topic_term_dists=topic_term,\n",
    "                                            doc_topic_dists=doc_topic,\n",
    "                                            doc_lengths=doc_lengths,\n",
    "                                            vocab=vocab,\n",
    "                                            term_frequency=term_frequency)\n",
    "\n",
    "# Make an interactive plot so we can cycle through topics by year:\n",
    "@interact(Year=dates)\n",
    "def f(Year):\n",
    "    return vis[Year]\n",
    "\n"
   ]
  },
  {
   "cell_type": "markdown",
   "metadata": {},
   "source": [
    "## Save visuals"
   ]
  },
  {
   "cell_type": "code",
   "execution_count": 291,
   "metadata": {},
   "outputs": [],
   "source": [
    "# optionally save\n",
    "for i in range(len(time_slice)):\n",
    "    pyLDAvis.save_html(vis[dates[i]], 'infowars_subset{}.html'.format(i))"
   ]
  },
  {
   "cell_type": "markdown",
   "metadata": {},
   "source": [
    "The use of 5 topics on the subset of articles yields more coherent results, hence for future iterations 5 topics might be a better parameter for the dynamic topic model"
   ]
  }
 ],
 "metadata": {
  "kernelspec": {
   "display_name": "Python 3",
   "language": "python",
   "name": "python3"
  },
  "language_info": {
   "codemirror_mode": {
    "name": "ipython",
    "version": 3
   },
   "file_extension": ".py",
   "mimetype": "text/x-python",
   "name": "python",
   "nbconvert_exporter": "python",
   "pygments_lexer": "ipython3",
   "version": "3.7.6"
  }
 },
 "nbformat": 4,
 "nbformat_minor": 5
}
